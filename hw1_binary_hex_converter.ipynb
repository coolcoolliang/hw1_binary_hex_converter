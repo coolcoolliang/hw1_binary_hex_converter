{
 "cells": [
  {
   "cell_type": "code",
   "execution_count": 32,
   "id": "f709770c",
   "metadata": {
    "scrolled": true
   },
   "outputs": [
    {
     "name": "stdout",
     "output_type": "stream",
     "text": [
      "請輸入數字:238\n",
      "二進位 11101110\n",
      "十六進位 EE\n"
     ]
    }
   ],
   "source": [
    "num=int(input(\"請輸入數字:\"))\n",
    "num2=num\n",
    "\n",
    "ten2two=\"\"\n",
    "\n",
    "#利用短除法概念\n",
    "if num==0:\n",
    "    ten2two=\"0\"\n",
    "    \n",
    "while num!=0:\n",
    "    if num%2==0:      #若餘數等於0，則在ten2two中加入0\n",
    "        ten2two+=\"0\"\n",
    "    else:\n",
    "        ten2two+=\"1\"  #若餘數為其他數字，不等於0，則在ten2two中加入1\n",
    "        \n",
    "    num//=2\n",
    "\n",
    "ten2tworesult=\"\"\n",
    "for i in range(len(ten2two)-1,-1,-1):    \n",
    "    ten2tworesult+=ten2two[i]        \n",
    "print(\"二進位\",ten2tworesult) \n",
    "\n",
    "\n",
    "ten2sixteen=\"\"\n",
    "\n",
    "if num2==0:\n",
    "    ten2sixteen=\"0\"\n",
    "    \n",
    "while num2!=0:\n",
    "    if num2%16==0:\n",
    "        ten2sixteen+=\"0\"\n",
    "    elif num2%16==1:\n",
    "        ten2sixteen+=\"1\"\n",
    "    elif num2%16==2:\n",
    "        ten2sixteen+=\"2\"\n",
    "    elif num2%16==3:\n",
    "        ten2sixteen+=\"3\"\n",
    "    elif num2%16==4:\n",
    "        ten2sixteen+=\"4\"\n",
    "    elif num2%16==5:\n",
    "        ten2sixteen+=\"5\"\n",
    "    elif num2%16==6:\n",
    "        ten2sixteen+=\"6\"\n",
    "    elif num2%16==7:\n",
    "        ten2sixteen+=\"7\"\n",
    "    elif num2%16==8:\n",
    "        ten2sixteen+=\"8\"\n",
    "    elif num2%16==9:\n",
    "        ten2sixteen+=\"9\"\n",
    "    elif num2%16==10:\n",
    "        ten2sixteen+=\"A\"\n",
    "    elif num2%16==11:\n",
    "        ten2sixteen+=\"B\"\n",
    "    elif num2%16==12:\n",
    "        ten2sixteen+=\"C\"\n",
    "    elif num2%16==13:\n",
    "        ten2sixteen+=\"D\"\n",
    "    elif num2%16==14:\n",
    "        ten2sixteen+=\"E\"\n",
    "    \n",
    "    else:\n",
    "        ten2sixteen+=\"F\"\n",
    "        \n",
    "    num2//=16\n",
    "\n",
    "ten2sixteenresult=\"\"\n",
    "for i in range(len(ten2sixteen)-1,-1,-1):    \n",
    "    ten2sixteenresult+=ten2sixteen[i]        \n",
    "print(\"十六進位\",ten2sixteenresult) "
   ]
  }
 ],
 "metadata": {
  "kernelspec": {
   "display_name": "Python 3 (ipykernel)",
   "language": "python",
   "name": "python3"
  },
  "language_info": {
   "codemirror_mode": {
    "name": "ipython",
    "version": 3
   },
   "file_extension": ".py",
   "mimetype": "text/x-python",
   "name": "python",
   "nbconvert_exporter": "python",
   "pygments_lexer": "ipython3",
   "version": "3.9.13"
  }
 },
 "nbformat": 4,
 "nbformat_minor": 5
}
